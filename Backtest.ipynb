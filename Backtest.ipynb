{
 "cells": [
  {
   "cell_type": "code",
   "execution_count": 1,
   "metadata": {},
   "outputs": [],
   "source": [
    "import ccxt\n",
    "import pandas as pd\n",
    "import numpy as np"
   ]
  },
  {
   "cell_type": "code",
   "execution_count": 6,
   "metadata": {},
   "outputs": [
    {
     "data": {
      "text/html": [
       "<div>\n",
       "<style scoped>\n",
       "    .dataframe tbody tr th:only-of-type {\n",
       "        vertical-align: middle;\n",
       "    }\n",
       "\n",
       "    .dataframe tbody tr th {\n",
       "        vertical-align: top;\n",
       "    }\n",
       "\n",
       "    .dataframe thead th {\n",
       "        text-align: right;\n",
       "    }\n",
       "</style>\n",
       "<table border=\"1\" class=\"dataframe\">\n",
       "  <thead>\n",
       "    <tr style=\"text-align: right;\">\n",
       "      <th></th>\n",
       "      <th>Timestamp</th>\n",
       "      <th>Open</th>\n",
       "      <th>High</th>\n",
       "      <th>Low</th>\n",
       "      <th>Close</th>\n",
       "      <th>Volume</th>\n",
       "    </tr>\n",
       "    <tr>\n",
       "      <th>Datetime</th>\n",
       "      <th></th>\n",
       "      <th></th>\n",
       "      <th></th>\n",
       "      <th></th>\n",
       "      <th></th>\n",
       "      <th></th>\n",
       "    </tr>\n",
       "  </thead>\n",
       "  <tbody>\n",
       "    <tr>\n",
       "      <th>2024-06-01 00:00:00+08:00</th>\n",
       "      <td>1717171200000</td>\n",
       "      <td>67215.58</td>\n",
       "      <td>67352.41</td>\n",
       "      <td>66670.00</td>\n",
       "      <td>67200.01</td>\n",
       "      <td>2882.03187</td>\n",
       "    </tr>\n",
       "    <tr>\n",
       "      <th>2024-06-01 01:00:00+08:00</th>\n",
       "      <td>1717174800000</td>\n",
       "      <td>67200.01</td>\n",
       "      <td>67459.66</td>\n",
       "      <td>67160.30</td>\n",
       "      <td>67342.77</td>\n",
       "      <td>885.94352</td>\n",
       "    </tr>\n",
       "    <tr>\n",
       "      <th>2024-06-01 02:00:00+08:00</th>\n",
       "      <td>1717178400000</td>\n",
       "      <td>67342.77</td>\n",
       "      <td>67444.47</td>\n",
       "      <td>67170.00</td>\n",
       "      <td>67414.88</td>\n",
       "      <td>952.07983</td>\n",
       "    </tr>\n",
       "    <tr>\n",
       "      <th>2024-06-01 03:00:00+08:00</th>\n",
       "      <td>1717182000000</td>\n",
       "      <td>67414.88</td>\n",
       "      <td>67999.00</td>\n",
       "      <td>67342.24</td>\n",
       "      <td>67681.00</td>\n",
       "      <td>1643.46289</td>\n",
       "    </tr>\n",
       "    <tr>\n",
       "      <th>2024-06-01 04:00:00+08:00</th>\n",
       "      <td>1717185600000</td>\n",
       "      <td>67681.00</td>\n",
       "      <td>67798.00</td>\n",
       "      <td>67600.00</td>\n",
       "      <td>67709.04</td>\n",
       "      <td>526.31866</td>\n",
       "    </tr>\n",
       "    <tr>\n",
       "      <th>...</th>\n",
       "      <td>...</td>\n",
       "      <td>...</td>\n",
       "      <td>...</td>\n",
       "      <td>...</td>\n",
       "      <td>...</td>\n",
       "      <td>...</td>\n",
       "    </tr>\n",
       "    <tr>\n",
       "      <th>2024-06-21 15:00:00+08:00</th>\n",
       "      <td>1718953200000</td>\n",
       "      <td>64627.64</td>\n",
       "      <td>64739.09</td>\n",
       "      <td>64190.76</td>\n",
       "      <td>64201.63</td>\n",
       "      <td>1033.34054</td>\n",
       "    </tr>\n",
       "    <tr>\n",
       "      <th>2024-06-21 16:00:00+08:00</th>\n",
       "      <td>1718956800000</td>\n",
       "      <td>64201.63</td>\n",
       "      <td>64372.15</td>\n",
       "      <td>63522.75</td>\n",
       "      <td>63639.64</td>\n",
       "      <td>2349.97676</td>\n",
       "    </tr>\n",
       "    <tr>\n",
       "      <th>2024-06-21 17:00:00+08:00</th>\n",
       "      <td>1718960400000</td>\n",
       "      <td>63639.64</td>\n",
       "      <td>64300.00</td>\n",
       "      <td>63564.37</td>\n",
       "      <td>64100.00</td>\n",
       "      <td>1803.08001</td>\n",
       "    </tr>\n",
       "    <tr>\n",
       "      <th>2024-06-21 18:00:00+08:00</th>\n",
       "      <td>1718964000000</td>\n",
       "      <td>64100.00</td>\n",
       "      <td>64174.00</td>\n",
       "      <td>63814.00</td>\n",
       "      <td>63896.02</td>\n",
       "      <td>856.49464</td>\n",
       "    </tr>\n",
       "    <tr>\n",
       "      <th>2024-06-21 19:00:00+08:00</th>\n",
       "      <td>1718967600000</td>\n",
       "      <td>63896.02</td>\n",
       "      <td>64060.01</td>\n",
       "      <td>63672.55</td>\n",
       "      <td>63770.00</td>\n",
       "      <td>1106.70545</td>\n",
       "    </tr>\n",
       "  </tbody>\n",
       "</table>\n",
       "<p>500 rows × 6 columns</p>\n",
       "</div>"
      ],
      "text/plain": [
       "                               Timestamp      Open      High       Low  \\\n",
       "Datetime                                                                 \n",
       "2024-06-01 00:00:00+08:00  1717171200000  67215.58  67352.41  66670.00   \n",
       "2024-06-01 01:00:00+08:00  1717174800000  67200.01  67459.66  67160.30   \n",
       "2024-06-01 02:00:00+08:00  1717178400000  67342.77  67444.47  67170.00   \n",
       "2024-06-01 03:00:00+08:00  1717182000000  67414.88  67999.00  67342.24   \n",
       "2024-06-01 04:00:00+08:00  1717185600000  67681.00  67798.00  67600.00   \n",
       "...                                  ...       ...       ...       ...   \n",
       "2024-06-21 15:00:00+08:00  1718953200000  64627.64  64739.09  64190.76   \n",
       "2024-06-21 16:00:00+08:00  1718956800000  64201.63  64372.15  63522.75   \n",
       "2024-06-21 17:00:00+08:00  1718960400000  63639.64  64300.00  63564.37   \n",
       "2024-06-21 18:00:00+08:00  1718964000000  64100.00  64174.00  63814.00   \n",
       "2024-06-21 19:00:00+08:00  1718967600000  63896.02  64060.01  63672.55   \n",
       "\n",
       "                              Close      Volume  \n",
       "Datetime                                         \n",
       "2024-06-01 00:00:00+08:00  67200.01  2882.03187  \n",
       "2024-06-01 01:00:00+08:00  67342.77   885.94352  \n",
       "2024-06-01 02:00:00+08:00  67414.88   952.07983  \n",
       "2024-06-01 03:00:00+08:00  67681.00  1643.46289  \n",
       "2024-06-01 04:00:00+08:00  67709.04   526.31866  \n",
       "...                             ...         ...  \n",
       "2024-06-21 15:00:00+08:00  64201.63  1033.34054  \n",
       "2024-06-21 16:00:00+08:00  63639.64  2349.97676  \n",
       "2024-06-21 17:00:00+08:00  64100.00  1803.08001  \n",
       "2024-06-21 18:00:00+08:00  63896.02   856.49464  \n",
       "2024-06-21 19:00:00+08:00  63770.00  1106.70545  \n",
       "\n",
       "[500 rows x 6 columns]"
      ]
     },
     "execution_count": 6,
     "metadata": {},
     "output_type": "execute_result"
    }
   ],
   "source": [
    "from utils import fetchOHLCV\n",
    "\n",
    "df = fetchOHLCV('BTC/USDT', '1h', '2024-06-01', 500)\n",
    "\n",
    "df"
   ]
  },
  {
   "cell_type": "code",
   "execution_count": 3,
   "metadata": {},
   "outputs": [],
   "source": [
    "o = df['Open'].to_numpy()\n",
    "h = df['High'].to_numpy()\n",
    "l = df['Low'].to_numpy()\n",
    "c = df['Close'].to_numpy()\n",
    "v = df['Volume'].to_numpy()"
   ]
  },
  {
   "cell_type": "code",
   "execution_count": 4,
   "metadata": {},
   "outputs": [
    {
     "data": {
      "text/html": [
       "<div>\n",
       "<style scoped>\n",
       "    .dataframe tbody tr th:only-of-type {\n",
       "        vertical-align: middle;\n",
       "    }\n",
       "\n",
       "    .dataframe tbody tr th {\n",
       "        vertical-align: top;\n",
       "    }\n",
       "\n",
       "    .dataframe thead th {\n",
       "        text-align: right;\n",
       "    }\n",
       "</style>\n",
       "<table border=\"1\" class=\"dataframe\">\n",
       "  <thead>\n",
       "    <tr style=\"text-align: right;\">\n",
       "      <th></th>\n",
       "      <th>value</th>\n",
       "      <th>conf_i</th>\n",
       "      <th>conf_timestamp</th>\n",
       "    </tr>\n",
       "  </thead>\n",
       "  <tbody>\n",
       "    <tr>\n",
       "      <th>0</th>\n",
       "      <td>NaN</td>\n",
       "      <td>0</td>\n",
       "      <td>2024-06-01 00:00:00+08:00</td>\n",
       "    </tr>\n",
       "    <tr>\n",
       "      <th>1</th>\n",
       "      <td>NaN</td>\n",
       "      <td>1</td>\n",
       "      <td>2024-06-01 01:00:00+08:00</td>\n",
       "    </tr>\n",
       "    <tr>\n",
       "      <th>2</th>\n",
       "      <td>NaN</td>\n",
       "      <td>2</td>\n",
       "      <td>2024-06-01 02:00:00+08:00</td>\n",
       "    </tr>\n",
       "    <tr>\n",
       "      <th>3</th>\n",
       "      <td>NaN</td>\n",
       "      <td>3</td>\n",
       "      <td>2024-06-01 03:00:00+08:00</td>\n",
       "    </tr>\n",
       "    <tr>\n",
       "      <th>4</th>\n",
       "      <td>NaN</td>\n",
       "      <td>4</td>\n",
       "      <td>2024-06-01 04:00:00+08:00</td>\n",
       "    </tr>\n",
       "    <tr>\n",
       "      <th>...</th>\n",
       "      <td>...</td>\n",
       "      <td>...</td>\n",
       "      <td>...</td>\n",
       "    </tr>\n",
       "    <tr>\n",
       "      <th>95</th>\n",
       "      <td>68721.934957</td>\n",
       "      <td>95</td>\n",
       "      <td>2024-06-04 23:00:00+08:00</td>\n",
       "    </tr>\n",
       "    <tr>\n",
       "      <th>96</th>\n",
       "      <td>68817.197288</td>\n",
       "      <td>96</td>\n",
       "      <td>2024-06-05 00:00:00+08:00</td>\n",
       "    </tr>\n",
       "    <tr>\n",
       "      <th>97</th>\n",
       "      <td>68851.199632</td>\n",
       "      <td>97</td>\n",
       "      <td>2024-06-05 01:00:00+08:00</td>\n",
       "    </tr>\n",
       "    <tr>\n",
       "      <th>98</th>\n",
       "      <td>68916.106821</td>\n",
       "      <td>98</td>\n",
       "      <td>2024-06-05 02:00:00+08:00</td>\n",
       "    </tr>\n",
       "    <tr>\n",
       "      <th>99</th>\n",
       "      <td>68944.084946</td>\n",
       "      <td>99</td>\n",
       "      <td>2024-06-05 03:00:00+08:00</td>\n",
       "    </tr>\n",
       "  </tbody>\n",
       "</table>\n",
       "<p>100 rows × 3 columns</p>\n",
       "</div>"
      ],
      "text/plain": [
       "           value  conf_i            conf_timestamp\n",
       "0            NaN       0 2024-06-01 00:00:00+08:00\n",
       "1            NaN       1 2024-06-01 01:00:00+08:00\n",
       "2            NaN       2 2024-06-01 02:00:00+08:00\n",
       "3            NaN       3 2024-06-01 03:00:00+08:00\n",
       "4            NaN       4 2024-06-01 04:00:00+08:00\n",
       "..           ...     ...                       ...\n",
       "95  68721.934957      95 2024-06-04 23:00:00+08:00\n",
       "96  68817.197288      96 2024-06-05 00:00:00+08:00\n",
       "97  68851.199632      97 2024-06-05 01:00:00+08:00\n",
       "98  68916.106821      98 2024-06-05 02:00:00+08:00\n",
       "99  68944.084946      99 2024-06-05 03:00:00+08:00\n",
       "\n",
       "[100 rows x 3 columns]"
      ]
     },
     "execution_count": 4,
     "metadata": {},
     "output_type": "execute_result"
    }
   ],
   "source": [
    "from VolumeWeightedAveragePrice import VolumeWeightedAveragePrice\n",
    "\n",
    "Bt1 = VolumeWeightedAveragePrice('anchored_daily', 8, 24)\n",
    "Bt2 = VolumeWeightedAveragePrice('anchored_weekly', 8, 24 * 7)\n",
    "\n",
    "for i in range(len(h)):\n",
    "    Bt1.update(i, df.index, o, h, l, c, v)\n",
    "    Bt2.update(i, df.index, o, h, l, c, v)\n",
    "\n",
    "pd.DataFrame(Bt2.vwap)"
   ]
  },
  {
   "cell_type": "code",
   "execution_count": 5,
   "metadata": {},
   "outputs": [
    {
     "data": {
      "application/vnd.plotly.v1+json": {
       "config": {
        "plotlyServerURL": "https://plot.ly"
       },
       "data": [
        {
         "close": {
          "bdata": "j8L1KABo8EAfhetR7HDwQEjhehRudfBAAAAAABCG8EA9Ctej0IfwQPYoXI/OfvBAH4XrUVh78ECPwvUoQH3wQPYoXI96hPBAAAAAAIB+8EDNzMzMEInwQFyPwvU0iPBAj8L1KACG8ECamZmZZYbwQOxRuB7VhvBAexSuRwGD8EAAAAAAgIfwQKRwPQqrh/BAexSuR7WC8EDsUbgeyYTwQI/C9ShciPBAj8L1KICI8EAK16NwtY3wQK5H4Xq0hvBAj8L1KECH8EAfhetR8IzwQMP1KFxrivBAj8L1KJyK8EA9CtejSI3wQI/C9SgAi/BAZmZmZlaL8ECamZmZbYvwQAAAAAAQk/BAAAAAALCK8ECPwvUoVInwQFK4HoXXjPBAuB6F68mQ8EBmZmZmBonwQArXo3ARkPBAAAAAAJCI8ECF61G4aorwQHE9CteffPBAcT0K15988EAfhetRuKnwQHE9CtfvlfBA4XoUrl+k8EAAAAAAyKnwQIXrUbjiovBASOF6FHqg8ECuR+F6dJLwQNejcD0Sh/BAMzMzM4+J8EAzMzMzc4/wQNejcD2CjvBAcT0K13+V8EBI4XoUWovwQHE9Ctf/jvBAj8L1KMC38EB7FK5HAbTwQFyPwvXssfBAAAAAAOC58EAAAAAAwMXwQKRwPQrv2vBAMzMzM6vS8EDNzMzMaOHwQEjhehRu2fBAcT0K17/S8EAAAAAAgN3wQOF6FK4jB/FACtejcDUK8UCPwvUogMrwQK5H4Xr0/vBAH4XrUYDd8EBSuB6FT+nwQPYoXI+G6vBAAAAAAEDl8ECuR+F61N7wQIXrUbiS3fBAj8L1KCjb8EBmZmZmnszwQPYoXI+W2PBAZmZmZvbl8EDsUbgeOeHwQFK4HoUj4/BAUrgehVPc8ECPwvUowNXwQBSuR+GW0vBASOF6FFrZ8EA9CtejSM7wQIXrUbjexvBA9ihcj6rR8ECamZmZvdXwQFyPwvUo1fBAcT0K13/58EBxPQrXNwHxQAAAAADQMvFAAAAAAABJ8UAAAAAAQDrxQIXrUbhaQvFAmpmZmXkx8UA=",
          "dtype": "f8"
         },
         "high": {
          "bdata": "9ihcj4Zx8ED2KFyPOnjwQFK4HoVHd/BAAAAAAPCZ8EAAAAAAYI3wQAAAAADgh/BAAAAAAECF8ECamZmZKYHwQNejcD1+h/BAPQrXo+SH8EAAAAAAwInwQNejcD3SivBAXI/C9TyL8EAAAAAAII7wQLgehesdifBAj8L1KFCJ8EBcj8L10InwQAAAAAAAi/BAAAAAAGCK8EAAAAAA4IbwQAAAAAAIkvBAAAAAANCP8EAAAAAA4JHwQAAAAAAAj/BAcT0K13+I8EAAAAAAwJPwQOF6FK7bjvBA16NwPWqM8EA9CtejSI3wQDMzMzPDjvBAAAAAANCS8ECuR+F6vI7wQM3MzMxolPBAAAAAAMCT8EAAAAAAcI7wQHE9Ctf/jfBASOF6FMqQ8ECamZmZuZHwQHsUrkfFkPBA9ihcjy6Q8EDsUbgeSY7wQGZmZmbKi/BAUrgehd9/8EB7FK5HAa7wQAAAAAAQrfBA9ihcj2qn8EAAAAAAwLbwQLgeheuRrPBAAAAAAICm8EDXo3A9eqDwQK5H4Xp0kvBAAAAAAGCN8EDD9Shcc4/wQLgehevhk/BAj8L1KACZ8ECPwvUoAJnwQLgehesdkvBAhetRuJq88EBSuB6Fn8vwQDMzMzNruvBAAAAAAIC/8EAAAAAAwMrwQAAAAABQ5vBAuB6F67nj8EAAAAAAUO3wQFyPwvUw5PBAPQrXoyzk8EBxPQrXD+jwQM3MzMyUCPFAAAAAAAAp8UCF61G4+hvxQPYoXI/y//BAKVyPwjkF8UCF61G43vDwQHE9CtdH9PBAFK5H4Qrr8EBI4XoUVvjwQClcj8J95PBAexSuR4Xh8ECkcD0KY9zwQGZmZmYu3vBA9ihcj/bl8ECF61G4quvwQI/C9Sig7/BAH4XrUUTp8ED2KFyPQuLwQMP1KFz72vBA7FG4Hi3d8EBxPQrXf+TwQI/C9Sig0fBAAAAAAODV8EAAAAAAYNrwQAAAAAA44vBAAAAAAGwM8UBxPQrXnxzxQAAAAAAANfFAAAAAAHBV8UAfhetRGEvxQDMzMzN3WfFAj8L1KHxE8UA=",
          "dtype": "f8"
         },
         "low": {
          "bdata": "AAAAAOBG8EDNzMzMhGXwQAAAAAAgZvBAcT0K1+Nw8EAAAAAAAIHwQAAAAADAevBAj8L1KFh78ECkcD0Kc2rwQNejcD02e/BApHA9Ckd28EAfhetRqH3wQHE9CtdzgvBAAAAAAICE8EAAAAAAMIHwQKRwPQp/gfBA4XoUrnN/8EApXI/CuYHwQAAAAAAwg/BA7FG4HrWC8EDsUbgetYLwQAAAAACAg/BArkfheiSI8EAAAAAAkIXwQI/C9ShAhfBAAAAAAMCB8EBSuB6FS37wQOxRuB7liPBAUrgehVuG8EAAAAAAQIfwQOF6FK4TiPBAAAAAAOCH8EAAAAAAsIjwQAAAAAAAivBAAAAAAOCH8EB7FK5HtYPwQFyPwvXkiPBAFK5H4RKK8EBmZmZmBonwQJqZmZnJiPBA9ihcj4aI8EBcj8L1fIXwQD0K16Mcc/BAMzMzM3Ny8ECamZmZSXrwQHE9CtfDkPBAAAAAAICN8EBmZmZmmp7wQKRwPQoDm/BAAAAAAMCY8ED2KFyPCo7wQEjhehQOePBAUrgehZdr8EBmZmZmmn/wQAAAAACwivBAw/UoXB+O8EC4HoXrWYvwQOF6FK7HgfBAzczMzPyO8ECPwvUoSLPwQAAAAACQpvBAPQrXo9Sr8ED2KFyPkrXwQI/C9SiAwfBAAAAAAEDM8ECkcD0Kq9LwQFK4HoUb0/BA4XoUrs/Q8EAAAAAAgM3wQGZmZmY23fBAPQrXoxD58EAAAAAAQLnwQAAAAACAyfBA16NwPT7S8EAAAAAAAMzwQOF6FK6v4vBAH4XrUdzZ8EAfhetR1N7wQI/C9Sg40vBAAAAAAKDM8ECPwvUoqMfwQGZmZmZewfBAmpmZmUnS8EDNzMzMjN3wQOF6FK6v3/BAuB6F6xHc8ECuR+F6JNPwQBSuR+GayPBAw/UoXOPR8EAAAAAAsM3wQOxRuB51vfBAexSuR93F8EC4HoXrnc7wQOF6FK67zvBAzczMzCjV8EA9CtejfOzwQHsUrkd99fBAhetRuEIv8UBmZmZmhi3xQAAAAABAOvFAAAAAAMgc8UA=",
          "dtype": "f8"
         },
         "name": "Candlestick",
         "open": {
          "bdata": "exSuR/lo8ECPwvUoAGjwQB+F61HscPBASOF6FG518EAAAAAAEIbwQD0K16PQh/BA9ihcj85+8EAfhetRWHvwQI/C9ShAffBA9ihcj3qE8EAAAAAAgH7wQM3MzMwQifBAXI/C9TSI8ECPwvUoAIbwQJqZmZllhvBA7FG4HtWG8EDsUbgeAYPwQAAAAACAh/BApHA9CquH8EB7FK5HtYLwQOxRuB7JhPBAj8L1KFyI8ECPwvUogIjwQHsUrke1jfBArkfherSG8ECPwvUoQIfwQB+F61HwjPBAMzMzM2uK8ECPwvUonIrwQD0K16NIjfBAj8L1KACL8ED2KFyPVovwQArXo3Bti/BAcT0K1w+T8EAAAAAAsIrwQAAAAABUifBA4XoUrteM8EC4HoXryZDwQPYoXI8GifBACtejcBGQ8ECPwvUokIjwQBSuR+FqivBAAAAAAKB88EAAAAAAoHzwQK5H4Xq4qfBAcT0K1++V8EBSuB6FX6TwQI/C9SjIqfBAFK5H4eKi8EBI4XoUeqDwQB+F61F0kvBA16NwPRKH8EAzMzMzj4nwQMP1KFxzj/BASOF6FIKO8EAAAAAAgJXwQLgehetZi/BAAAAAAACP8ECPwvUowLfwQArXo3ABtPBAzczMzOyx8EAAAAAA4LnwQHE9Cte/xfBApHA9Cu/a8EAzMzMzq9LwQD0K16No4fBA16NwPW7Z8EAAAAAAwNLwQAAAAACA3fBA4XoUriMH8UB7FK5HNQrxQI/C9SiAyvBAH4XrUfT+8EAfhetRgN3wQOF6FK5P6fBA9ihcj4bq8EAAAAAAQOXwQK5H4XrU3vBAhetRuJLd8ECPwvUoKNvwQNejcD2ezPBAZmZmZpbY8ED2KFyP9uXwQHsUrkc54fBAUrgehSPj8EBSuB6FU9zwQI/C9SjA1fBAFK5H4ZbS8EC4HoXrWdnwQD0K16NIzvBAhetRuN7G8ED2KFyPqtHwQArXo3C91fBAXI/C9SjV8EBxPQrXf/nwQHE9Ctc3AfFAAAAAANAy8UAAAAAAAEnxQI/C9ShAOvFAhetRuFpC8UA=",
          "dtype": "f8"
         },
         "type": "candlestick",
         "x": [
          "2024-06-01T00:00:00+08:00",
          "2024-06-01T01:00:00+08:00",
          "2024-06-01T02:00:00+08:00",
          "2024-06-01T03:00:00+08:00",
          "2024-06-01T04:00:00+08:00",
          "2024-06-01T05:00:00+08:00",
          "2024-06-01T06:00:00+08:00",
          "2024-06-01T07:00:00+08:00",
          "2024-06-01T08:00:00+08:00",
          "2024-06-01T09:00:00+08:00",
          "2024-06-01T10:00:00+08:00",
          "2024-06-01T11:00:00+08:00",
          "2024-06-01T12:00:00+08:00",
          "2024-06-01T13:00:00+08:00",
          "2024-06-01T14:00:00+08:00",
          "2024-06-01T15:00:00+08:00",
          "2024-06-01T16:00:00+08:00",
          "2024-06-01T17:00:00+08:00",
          "2024-06-01T18:00:00+08:00",
          "2024-06-01T19:00:00+08:00",
          "2024-06-01T20:00:00+08:00",
          "2024-06-01T21:00:00+08:00",
          "2024-06-01T22:00:00+08:00",
          "2024-06-01T23:00:00+08:00",
          "2024-06-02T00:00:00+08:00",
          "2024-06-02T01:00:00+08:00",
          "2024-06-02T02:00:00+08:00",
          "2024-06-02T03:00:00+08:00",
          "2024-06-02T04:00:00+08:00",
          "2024-06-02T05:00:00+08:00",
          "2024-06-02T06:00:00+08:00",
          "2024-06-02T07:00:00+08:00",
          "2024-06-02T08:00:00+08:00",
          "2024-06-02T09:00:00+08:00",
          "2024-06-02T10:00:00+08:00",
          "2024-06-02T11:00:00+08:00",
          "2024-06-02T12:00:00+08:00",
          "2024-06-02T13:00:00+08:00",
          "2024-06-02T14:00:00+08:00",
          "2024-06-02T15:00:00+08:00",
          "2024-06-02T16:00:00+08:00",
          "2024-06-02T17:00:00+08:00",
          "2024-06-02T18:00:00+08:00",
          "2024-06-02T19:00:00+08:00",
          "2024-06-02T20:00:00+08:00",
          "2024-06-02T21:00:00+08:00",
          "2024-06-02T22:00:00+08:00",
          "2024-06-02T23:00:00+08:00",
          "2024-06-03T00:00:00+08:00",
          "2024-06-03T01:00:00+08:00",
          "2024-06-03T02:00:00+08:00",
          "2024-06-03T03:00:00+08:00",
          "2024-06-03T04:00:00+08:00",
          "2024-06-03T05:00:00+08:00",
          "2024-06-03T06:00:00+08:00",
          "2024-06-03T07:00:00+08:00",
          "2024-06-03T08:00:00+08:00",
          "2024-06-03T09:00:00+08:00",
          "2024-06-03T10:00:00+08:00",
          "2024-06-03T11:00:00+08:00",
          "2024-06-03T12:00:00+08:00",
          "2024-06-03T13:00:00+08:00",
          "2024-06-03T14:00:00+08:00",
          "2024-06-03T15:00:00+08:00",
          "2024-06-03T16:00:00+08:00",
          "2024-06-03T17:00:00+08:00",
          "2024-06-03T18:00:00+08:00",
          "2024-06-03T19:00:00+08:00",
          "2024-06-03T20:00:00+08:00",
          "2024-06-03T21:00:00+08:00",
          "2024-06-03T22:00:00+08:00",
          "2024-06-03T23:00:00+08:00",
          "2024-06-04T00:00:00+08:00",
          "2024-06-04T01:00:00+08:00",
          "2024-06-04T02:00:00+08:00",
          "2024-06-04T03:00:00+08:00",
          "2024-06-04T04:00:00+08:00",
          "2024-06-04T05:00:00+08:00",
          "2024-06-04T06:00:00+08:00",
          "2024-06-04T07:00:00+08:00",
          "2024-06-04T08:00:00+08:00",
          "2024-06-04T09:00:00+08:00",
          "2024-06-04T10:00:00+08:00",
          "2024-06-04T11:00:00+08:00",
          "2024-06-04T12:00:00+08:00",
          "2024-06-04T13:00:00+08:00",
          "2024-06-04T14:00:00+08:00",
          "2024-06-04T15:00:00+08:00",
          "2024-06-04T16:00:00+08:00",
          "2024-06-04T17:00:00+08:00",
          "2024-06-04T18:00:00+08:00",
          "2024-06-04T19:00:00+08:00",
          "2024-06-04T20:00:00+08:00",
          "2024-06-04T21:00:00+08:00",
          "2024-06-04T22:00:00+08:00",
          "2024-06-04T23:00:00+08:00",
          "2024-06-05T00:00:00+08:00",
          "2024-06-05T01:00:00+08:00",
          "2024-06-05T02:00:00+08:00",
          "2024-06-05T03:00:00+08:00"
         ],
         "xaxis": "x",
         "yaxis": "y"
        },
        {
         "line": {
          "color": "yellow"
         },
         "mode": "lines",
         "name": "VWAP",
         "type": "scatter",
         "x": [
          "2024-06-01T00:00:00+08:00",
          "2024-06-01T01:00:00+08:00",
          "2024-06-01T02:00:00+08:00",
          "2024-06-01T03:00:00+08:00",
          "2024-06-01T04:00:00+08:00",
          "2024-06-01T05:00:00+08:00",
          "2024-06-01T06:00:00+08:00",
          "2024-06-01T07:00:00+08:00",
          "2024-06-01T08:00:00+08:00",
          "2024-06-01T09:00:00+08:00",
          "2024-06-01T10:00:00+08:00",
          "2024-06-01T11:00:00+08:00",
          "2024-06-01T12:00:00+08:00",
          "2024-06-01T13:00:00+08:00",
          "2024-06-01T14:00:00+08:00",
          "2024-06-01T15:00:00+08:00",
          "2024-06-01T16:00:00+08:00",
          "2024-06-01T17:00:00+08:00",
          "2024-06-01T18:00:00+08:00",
          "2024-06-01T19:00:00+08:00",
          "2024-06-01T20:00:00+08:00",
          "2024-06-01T21:00:00+08:00",
          "2024-06-01T22:00:00+08:00",
          "2024-06-01T23:00:00+08:00",
          "2024-06-02T00:00:00+08:00",
          "2024-06-02T01:00:00+08:00",
          "2024-06-02T02:00:00+08:00",
          "2024-06-02T03:00:00+08:00",
          "2024-06-02T04:00:00+08:00",
          "2024-06-02T05:00:00+08:00",
          "2024-06-02T06:00:00+08:00",
          "2024-06-02T07:00:00+08:00",
          "2024-06-02T08:00:00+08:00",
          "2024-06-02T09:00:00+08:00",
          "2024-06-02T10:00:00+08:00",
          "2024-06-02T11:00:00+08:00",
          "2024-06-02T12:00:00+08:00",
          "2024-06-02T13:00:00+08:00",
          "2024-06-02T14:00:00+08:00",
          "2024-06-02T15:00:00+08:00",
          "2024-06-02T16:00:00+08:00",
          "2024-06-02T17:00:00+08:00",
          "2024-06-02T18:00:00+08:00",
          "2024-06-02T19:00:00+08:00",
          "2024-06-02T20:00:00+08:00",
          "2024-06-02T21:00:00+08:00",
          "2024-06-02T22:00:00+08:00",
          "2024-06-02T23:00:00+08:00",
          "2024-06-03T00:00:00+08:00",
          "2024-06-03T01:00:00+08:00",
          "2024-06-03T02:00:00+08:00",
          "2024-06-03T03:00:00+08:00",
          "2024-06-03T04:00:00+08:00",
          "2024-06-03T05:00:00+08:00",
          "2024-06-03T06:00:00+08:00",
          "2024-06-03T07:00:00+08:00",
          "2024-06-03T08:00:00+08:00",
          "2024-06-03T09:00:00+08:00",
          "2024-06-03T10:00:00+08:00",
          "2024-06-03T11:00:00+08:00",
          "2024-06-03T12:00:00+08:00",
          "2024-06-03T13:00:00+08:00",
          "2024-06-03T14:00:00+08:00",
          "2024-06-03T15:00:00+08:00",
          "2024-06-03T16:00:00+08:00",
          "2024-06-03T17:00:00+08:00",
          "2024-06-03T18:00:00+08:00",
          "2024-06-03T19:00:00+08:00",
          "2024-06-03T20:00:00+08:00",
          "2024-06-03T21:00:00+08:00",
          "2024-06-03T22:00:00+08:00",
          "2024-06-03T23:00:00+08:00",
          "2024-06-04T00:00:00+08:00",
          "2024-06-04T01:00:00+08:00",
          "2024-06-04T02:00:00+08:00",
          "2024-06-04T03:00:00+08:00",
          "2024-06-04T04:00:00+08:00",
          "2024-06-04T05:00:00+08:00",
          "2024-06-04T06:00:00+08:00",
          "2024-06-04T07:00:00+08:00",
          "2024-06-04T08:00:00+08:00",
          "2024-06-04T09:00:00+08:00",
          "2024-06-04T10:00:00+08:00",
          "2024-06-04T11:00:00+08:00",
          "2024-06-04T12:00:00+08:00",
          "2024-06-04T13:00:00+08:00",
          "2024-06-04T14:00:00+08:00",
          "2024-06-04T15:00:00+08:00",
          "2024-06-04T16:00:00+08:00",
          "2024-06-04T17:00:00+08:00",
          "2024-06-04T18:00:00+08:00",
          "2024-06-04T19:00:00+08:00",
          "2024-06-04T20:00:00+08:00",
          "2024-06-04T21:00:00+08:00",
          "2024-06-04T22:00:00+08:00",
          "2024-06-04T23:00:00+08:00",
          "2024-06-05T00:00:00+08:00",
          "2024-06-05T01:00:00+08:00",
          "2024-06-05T02:00:00+08:00",
          "2024-06-05T03:00:00+08:00"
         ],
         "xaxis": "x",
         "y": {
          "bdata": "AAAAAAAA+H8AAAAAAAD4fwAAAAAAAPh/AAAAAAAA+H8AAAAAAAD4fwAAAAAAAPh/AAAAAAAA+H8AAAAAAAD4fzfQaQNlgvBAYU6dwqWA8EACfeVLu4HwQIsOijCwgvBAeUE8UGCD8EAv+hIv4oPwQK++0GAThPBAEGO32A6E8EAlshCmT4TwQKby44KWhPBA0EP2AKSE8EANQDE0poTwQHn/WqMbhfBAs0ECr5KF8EB+9S0zCobwQGI1haQzhvBA4tB4+C6G8EBStipU2YbwQEmpYa0Dh/BAFtudohOH8ECTkuU8QIfwQKym49hjh/BAZBCk8IyH8EBXuSc7oIfwQJmZmZl9kPBAos2r1leO8ED5nlV/qIzwQOQP8duEjPBAhFVVccSM8EDhjJ6iqYzwQOfdgUzcjPBAzNoIEZqM8EDxthACRIzwQBj3+WGIiPBArmV0FDWH8EAucKHV0IvwQLIzaK4+jvBA3+Kmi9qP8ECFyxXA9pXwQHp6vzSglvBAxgWsRgmX8EA2uNrW45bwQAZ+DnPklPBAmYqSAq6S8EC77s5Yd5LwQDiMUrJnkvBAQQvNxHGS8ED+LbblZZLwQAOdNtChi/BAfebEp6mi8EBCeM6WE6zwQOy7FiQBrfBAcaTEwsSu8EBwLR33nrHwQO/E6aYnvfBAhoptHvjA8ECLwRCgtcTwQN+XuGgHxvBAG5/NWn3H8EAnCwUh3sjwQL1eceD7zvBAg8/YedbY8EBtOrM8ENrwQDXpCNyb2/BAAqbYU1fc8EBWqnP0g9zwQLR9/Jbg3PBAC1EnrQnd8ECZa8KfYN3wQNuEci1a3fBAcJ5Xl0Hd8EBoxOrFDN3wQEGnDXS20vBA420ct0PX8EBXDz0DJtrwQM0OjstF3PBAXUavhunc8EDx5HvEVtzwQOse3hGC2fBAX6jXf1jZ8EAjds6a1tjwQI5HeMCR1fBAzaQBJQDV8EBssJCi/tTwQE1nOvJB1fBAxoEC3Ivb8EAGjq2W2eTwQCpRTVCf7/BAVkmCesb98EBa6h7HwQHxQOpdVkgMCfFAdUTdLEUL8UA=",
          "dtype": "f8"
         },
         "yaxis": "y"
        },
        {
         "line": {
          "color": "blue"
         },
         "mode": "lines",
         "name": "VWAP",
         "type": "scatter",
         "x": [
          "2024-06-01T00:00:00+08:00",
          "2024-06-01T01:00:00+08:00",
          "2024-06-01T02:00:00+08:00",
          "2024-06-01T03:00:00+08:00",
          "2024-06-01T04:00:00+08:00",
          "2024-06-01T05:00:00+08:00",
          "2024-06-01T06:00:00+08:00",
          "2024-06-01T07:00:00+08:00",
          "2024-06-01T08:00:00+08:00",
          "2024-06-01T09:00:00+08:00",
          "2024-06-01T10:00:00+08:00",
          "2024-06-01T11:00:00+08:00",
          "2024-06-01T12:00:00+08:00",
          "2024-06-01T13:00:00+08:00",
          "2024-06-01T14:00:00+08:00",
          "2024-06-01T15:00:00+08:00",
          "2024-06-01T16:00:00+08:00",
          "2024-06-01T17:00:00+08:00",
          "2024-06-01T18:00:00+08:00",
          "2024-06-01T19:00:00+08:00",
          "2024-06-01T20:00:00+08:00",
          "2024-06-01T21:00:00+08:00",
          "2024-06-01T22:00:00+08:00",
          "2024-06-01T23:00:00+08:00",
          "2024-06-02T00:00:00+08:00",
          "2024-06-02T01:00:00+08:00",
          "2024-06-02T02:00:00+08:00",
          "2024-06-02T03:00:00+08:00",
          "2024-06-02T04:00:00+08:00",
          "2024-06-02T05:00:00+08:00",
          "2024-06-02T06:00:00+08:00",
          "2024-06-02T07:00:00+08:00",
          "2024-06-02T08:00:00+08:00",
          "2024-06-02T09:00:00+08:00",
          "2024-06-02T10:00:00+08:00",
          "2024-06-02T11:00:00+08:00",
          "2024-06-02T12:00:00+08:00",
          "2024-06-02T13:00:00+08:00",
          "2024-06-02T14:00:00+08:00",
          "2024-06-02T15:00:00+08:00",
          "2024-06-02T16:00:00+08:00",
          "2024-06-02T17:00:00+08:00",
          "2024-06-02T18:00:00+08:00",
          "2024-06-02T19:00:00+08:00",
          "2024-06-02T20:00:00+08:00",
          "2024-06-02T21:00:00+08:00",
          "2024-06-02T22:00:00+08:00",
          "2024-06-02T23:00:00+08:00",
          "2024-06-03T00:00:00+08:00",
          "2024-06-03T01:00:00+08:00",
          "2024-06-03T02:00:00+08:00",
          "2024-06-03T03:00:00+08:00",
          "2024-06-03T04:00:00+08:00",
          "2024-06-03T05:00:00+08:00",
          "2024-06-03T06:00:00+08:00",
          "2024-06-03T07:00:00+08:00",
          "2024-06-03T08:00:00+08:00",
          "2024-06-03T09:00:00+08:00",
          "2024-06-03T10:00:00+08:00",
          "2024-06-03T11:00:00+08:00",
          "2024-06-03T12:00:00+08:00",
          "2024-06-03T13:00:00+08:00",
          "2024-06-03T14:00:00+08:00",
          "2024-06-03T15:00:00+08:00",
          "2024-06-03T16:00:00+08:00",
          "2024-06-03T17:00:00+08:00",
          "2024-06-03T18:00:00+08:00",
          "2024-06-03T19:00:00+08:00",
          "2024-06-03T20:00:00+08:00",
          "2024-06-03T21:00:00+08:00",
          "2024-06-03T22:00:00+08:00",
          "2024-06-03T23:00:00+08:00",
          "2024-06-04T00:00:00+08:00",
          "2024-06-04T01:00:00+08:00",
          "2024-06-04T02:00:00+08:00",
          "2024-06-04T03:00:00+08:00",
          "2024-06-04T04:00:00+08:00",
          "2024-06-04T05:00:00+08:00",
          "2024-06-04T06:00:00+08:00",
          "2024-06-04T07:00:00+08:00",
          "2024-06-04T08:00:00+08:00",
          "2024-06-04T09:00:00+08:00",
          "2024-06-04T10:00:00+08:00",
          "2024-06-04T11:00:00+08:00",
          "2024-06-04T12:00:00+08:00",
          "2024-06-04T13:00:00+08:00",
          "2024-06-04T14:00:00+08:00",
          "2024-06-04T15:00:00+08:00",
          "2024-06-04T16:00:00+08:00",
          "2024-06-04T17:00:00+08:00",
          "2024-06-04T18:00:00+08:00",
          "2024-06-04T19:00:00+08:00",
          "2024-06-04T20:00:00+08:00",
          "2024-06-04T21:00:00+08:00",
          "2024-06-04T22:00:00+08:00",
          "2024-06-04T23:00:00+08:00",
          "2024-06-05T00:00:00+08:00",
          "2024-06-05T01:00:00+08:00",
          "2024-06-05T02:00:00+08:00",
          "2024-06-05T03:00:00+08:00"
         ],
         "xaxis": "x",
         "y": {
          "bdata": "AAAAAAAA+H8AAAAAAAD4fwAAAAAAAPh/AAAAAAAA+H8AAAAAAAD4fwAAAAAAAPh/AAAAAAAA+H8AAAAAAAD4fzfQaQNlgvBAYU6dwqWA8EACfeVLu4HwQIsOijCwgvBAeUE8UGCD8EAv+hIv4oPwQK++0GAThPBAEGO32A6E8EAlshCmT4TwQKby44KWhPBA0EP2AKSE8EANQDE0poTwQHn/WqMbhfBAs0ECr5KF8EB+9S0zCobwQGI1haQzhvBA4tB4+C6G8EBStipU2YbwQEmpYa0Dh/BAFtudohOH8ECTkuU8QIfwQKym49hjh/BAZBCk8IyH8EBXuSc7oIfwQHUjHXHqh/BAfwLvlB+I8EAQgV6zKIjwQIKT/3s/iPBA7Q3DjluI8EBgGs+kbYjwQNfBnKiXiPBAoWsaPquI8EBv4AdQtojwQN3sTNfkh/BAXsZ2Vn6H8EAxpWF3MonwQAdxjctdivBAJ/kCukCL8ECNXUN+4Y7wQICnbGBnj/BACmTOWcqP8EDJp/s3I5DwQO4JwLRtj/BAntZTzW+O8ED1XRO/Xo7wQDOlvJ1gjvBAuVKYMHWO8EDekkZ5eY7wQN9t/nlpjvBAWA7///SP8ED78Mio0JHwQHyF1uWdkvBALNrudqOT8EDqqt+45JTwQMgvZ2v0mfBAGwZVwICc8EBreLGg9J7wQEWQJM0VoPBArfAKup2h8EC+XBlqAqPwQNmowfEqp/BAs6HHxfCt8EDgu1IIA7LwQCK16w1WtPBACYAgef218ECIEj2mrrbwQKq8WLZbt/BAjtn+Zu638EAWqFEDxbjwQOGIqQolufBALgf3bHq58ECfVlcXrbnwQMqLK7AUuvBAVyfDRmq68EBTr2zNurrwQFNBMdIHu/BAGBKjaEm78EDZhfanhbvwQOznHRn4u/BALjdAUT288EAq+HSmi7zwQBAeabDEvPBABXKssva88EDu/0IkKr3wQPU4WhOTvfBAhHPK8n6/8ED4kB+83sLwQK/5lPUex/BASM4XKBPN8EC5VLExM8/wQIzdibVB0/BA9lzwWwHV8EA=",
          "dtype": "f8"
         },
         "yaxis": "y"
        }
       ],
       "layout": {
        "height": 800,
        "template": {
         "data": {
          "bar": [
           {
            "error_x": {
             "color": "#2a3f5f"
            },
            "error_y": {
             "color": "#2a3f5f"
            },
            "marker": {
             "line": {
              "color": "#E5ECF6",
              "width": 0.5
             },
             "pattern": {
              "fillmode": "overlay",
              "size": 10,
              "solidity": 0.2
             }
            },
            "type": "bar"
           }
          ],
          "barpolar": [
           {
            "marker": {
             "line": {
              "color": "#E5ECF6",
              "width": 0.5
             },
             "pattern": {
              "fillmode": "overlay",
              "size": 10,
              "solidity": 0.2
             }
            },
            "type": "barpolar"
           }
          ],
          "carpet": [
           {
            "aaxis": {
             "endlinecolor": "#2a3f5f",
             "gridcolor": "white",
             "linecolor": "white",
             "minorgridcolor": "white",
             "startlinecolor": "#2a3f5f"
            },
            "baxis": {
             "endlinecolor": "#2a3f5f",
             "gridcolor": "white",
             "linecolor": "white",
             "minorgridcolor": "white",
             "startlinecolor": "#2a3f5f"
            },
            "type": "carpet"
           }
          ],
          "choropleth": [
           {
            "colorbar": {
             "outlinewidth": 0,
             "ticks": ""
            },
            "type": "choropleth"
           }
          ],
          "contour": [
           {
            "colorbar": {
             "outlinewidth": 0,
             "ticks": ""
            },
            "colorscale": [
             [
              0,
              "#0d0887"
             ],
             [
              0.1111111111111111,
              "#46039f"
             ],
             [
              0.2222222222222222,
              "#7201a8"
             ],
             [
              0.3333333333333333,
              "#9c179e"
             ],
             [
              0.4444444444444444,
              "#bd3786"
             ],
             [
              0.5555555555555556,
              "#d8576b"
             ],
             [
              0.6666666666666666,
              "#ed7953"
             ],
             [
              0.7777777777777778,
              "#fb9f3a"
             ],
             [
              0.8888888888888888,
              "#fdca26"
             ],
             [
              1,
              "#f0f921"
             ]
            ],
            "type": "contour"
           }
          ],
          "contourcarpet": [
           {
            "colorbar": {
             "outlinewidth": 0,
             "ticks": ""
            },
            "type": "contourcarpet"
           }
          ],
          "heatmap": [
           {
            "colorbar": {
             "outlinewidth": 0,
             "ticks": ""
            },
            "colorscale": [
             [
              0,
              "#0d0887"
             ],
             [
              0.1111111111111111,
              "#46039f"
             ],
             [
              0.2222222222222222,
              "#7201a8"
             ],
             [
              0.3333333333333333,
              "#9c179e"
             ],
             [
              0.4444444444444444,
              "#bd3786"
             ],
             [
              0.5555555555555556,
              "#d8576b"
             ],
             [
              0.6666666666666666,
              "#ed7953"
             ],
             [
              0.7777777777777778,
              "#fb9f3a"
             ],
             [
              0.8888888888888888,
              "#fdca26"
             ],
             [
              1,
              "#f0f921"
             ]
            ],
            "type": "heatmap"
           }
          ],
          "histogram": [
           {
            "marker": {
             "pattern": {
              "fillmode": "overlay",
              "size": 10,
              "solidity": 0.2
             }
            },
            "type": "histogram"
           }
          ],
          "histogram2d": [
           {
            "colorbar": {
             "outlinewidth": 0,
             "ticks": ""
            },
            "colorscale": [
             [
              0,
              "#0d0887"
             ],
             [
              0.1111111111111111,
              "#46039f"
             ],
             [
              0.2222222222222222,
              "#7201a8"
             ],
             [
              0.3333333333333333,
              "#9c179e"
             ],
             [
              0.4444444444444444,
              "#bd3786"
             ],
             [
              0.5555555555555556,
              "#d8576b"
             ],
             [
              0.6666666666666666,
              "#ed7953"
             ],
             [
              0.7777777777777778,
              "#fb9f3a"
             ],
             [
              0.8888888888888888,
              "#fdca26"
             ],
             [
              1,
              "#f0f921"
             ]
            ],
            "type": "histogram2d"
           }
          ],
          "histogram2dcontour": [
           {
            "colorbar": {
             "outlinewidth": 0,
             "ticks": ""
            },
            "colorscale": [
             [
              0,
              "#0d0887"
             ],
             [
              0.1111111111111111,
              "#46039f"
             ],
             [
              0.2222222222222222,
              "#7201a8"
             ],
             [
              0.3333333333333333,
              "#9c179e"
             ],
             [
              0.4444444444444444,
              "#bd3786"
             ],
             [
              0.5555555555555556,
              "#d8576b"
             ],
             [
              0.6666666666666666,
              "#ed7953"
             ],
             [
              0.7777777777777778,
              "#fb9f3a"
             ],
             [
              0.8888888888888888,
              "#fdca26"
             ],
             [
              1,
              "#f0f921"
             ]
            ],
            "type": "histogram2dcontour"
           }
          ],
          "mesh3d": [
           {
            "colorbar": {
             "outlinewidth": 0,
             "ticks": ""
            },
            "type": "mesh3d"
           }
          ],
          "parcoords": [
           {
            "line": {
             "colorbar": {
              "outlinewidth": 0,
              "ticks": ""
             }
            },
            "type": "parcoords"
           }
          ],
          "pie": [
           {
            "automargin": true,
            "type": "pie"
           }
          ],
          "scatter": [
           {
            "fillpattern": {
             "fillmode": "overlay",
             "size": 10,
             "solidity": 0.2
            },
            "type": "scatter"
           }
          ],
          "scatter3d": [
           {
            "line": {
             "colorbar": {
              "outlinewidth": 0,
              "ticks": ""
             }
            },
            "marker": {
             "colorbar": {
              "outlinewidth": 0,
              "ticks": ""
             }
            },
            "type": "scatter3d"
           }
          ],
          "scattercarpet": [
           {
            "marker": {
             "colorbar": {
              "outlinewidth": 0,
              "ticks": ""
             }
            },
            "type": "scattercarpet"
           }
          ],
          "scattergeo": [
           {
            "marker": {
             "colorbar": {
              "outlinewidth": 0,
              "ticks": ""
             }
            },
            "type": "scattergeo"
           }
          ],
          "scattergl": [
           {
            "marker": {
             "colorbar": {
              "outlinewidth": 0,
              "ticks": ""
             }
            },
            "type": "scattergl"
           }
          ],
          "scattermap": [
           {
            "marker": {
             "colorbar": {
              "outlinewidth": 0,
              "ticks": ""
             }
            },
            "type": "scattermap"
           }
          ],
          "scattermapbox": [
           {
            "marker": {
             "colorbar": {
              "outlinewidth": 0,
              "ticks": ""
             }
            },
            "type": "scattermapbox"
           }
          ],
          "scatterpolar": [
           {
            "marker": {
             "colorbar": {
              "outlinewidth": 0,
              "ticks": ""
             }
            },
            "type": "scatterpolar"
           }
          ],
          "scatterpolargl": [
           {
            "marker": {
             "colorbar": {
              "outlinewidth": 0,
              "ticks": ""
             }
            },
            "type": "scatterpolargl"
           }
          ],
          "scatterternary": [
           {
            "marker": {
             "colorbar": {
              "outlinewidth": 0,
              "ticks": ""
             }
            },
            "type": "scatterternary"
           }
          ],
          "surface": [
           {
            "colorbar": {
             "outlinewidth": 0,
             "ticks": ""
            },
            "colorscale": [
             [
              0,
              "#0d0887"
             ],
             [
              0.1111111111111111,
              "#46039f"
             ],
             [
              0.2222222222222222,
              "#7201a8"
             ],
             [
              0.3333333333333333,
              "#9c179e"
             ],
             [
              0.4444444444444444,
              "#bd3786"
             ],
             [
              0.5555555555555556,
              "#d8576b"
             ],
             [
              0.6666666666666666,
              "#ed7953"
             ],
             [
              0.7777777777777778,
              "#fb9f3a"
             ],
             [
              0.8888888888888888,
              "#fdca26"
             ],
             [
              1,
              "#f0f921"
             ]
            ],
            "type": "surface"
           }
          ],
          "table": [
           {
            "cells": {
             "fill": {
              "color": "#EBF0F8"
             },
             "line": {
              "color": "white"
             }
            },
            "header": {
             "fill": {
              "color": "#C8D4E3"
             },
             "line": {
              "color": "white"
             }
            },
            "type": "table"
           }
          ]
         },
         "layout": {
          "annotationdefaults": {
           "arrowcolor": "#2a3f5f",
           "arrowhead": 0,
           "arrowwidth": 1
          },
          "autotypenumbers": "strict",
          "coloraxis": {
           "colorbar": {
            "outlinewidth": 0,
            "ticks": ""
           }
          },
          "colorscale": {
           "diverging": [
            [
             0,
             "#8e0152"
            ],
            [
             0.1,
             "#c51b7d"
            ],
            [
             0.2,
             "#de77ae"
            ],
            [
             0.3,
             "#f1b6da"
            ],
            [
             0.4,
             "#fde0ef"
            ],
            [
             0.5,
             "#f7f7f7"
            ],
            [
             0.6,
             "#e6f5d0"
            ],
            [
             0.7,
             "#b8e186"
            ],
            [
             0.8,
             "#7fbc41"
            ],
            [
             0.9,
             "#4d9221"
            ],
            [
             1,
             "#276419"
            ]
           ],
           "sequential": [
            [
             0,
             "#0d0887"
            ],
            [
             0.1111111111111111,
             "#46039f"
            ],
            [
             0.2222222222222222,
             "#7201a8"
            ],
            [
             0.3333333333333333,
             "#9c179e"
            ],
            [
             0.4444444444444444,
             "#bd3786"
            ],
            [
             0.5555555555555556,
             "#d8576b"
            ],
            [
             0.6666666666666666,
             "#ed7953"
            ],
            [
             0.7777777777777778,
             "#fb9f3a"
            ],
            [
             0.8888888888888888,
             "#fdca26"
            ],
            [
             1,
             "#f0f921"
            ]
           ],
           "sequentialminus": [
            [
             0,
             "#0d0887"
            ],
            [
             0.1111111111111111,
             "#46039f"
            ],
            [
             0.2222222222222222,
             "#7201a8"
            ],
            [
             0.3333333333333333,
             "#9c179e"
            ],
            [
             0.4444444444444444,
             "#bd3786"
            ],
            [
             0.5555555555555556,
             "#d8576b"
            ],
            [
             0.6666666666666666,
             "#ed7953"
            ],
            [
             0.7777777777777778,
             "#fb9f3a"
            ],
            [
             0.8888888888888888,
             "#fdca26"
            ],
            [
             1,
             "#f0f921"
            ]
           ]
          },
          "colorway": [
           "#636efa",
           "#EF553B",
           "#00cc96",
           "#ab63fa",
           "#FFA15A",
           "#19d3f3",
           "#FF6692",
           "#B6E880",
           "#FF97FF",
           "#FECB52"
          ],
          "font": {
           "color": "#2a3f5f"
          },
          "geo": {
           "bgcolor": "white",
           "lakecolor": "white",
           "landcolor": "#E5ECF6",
           "showlakes": true,
           "showland": true,
           "subunitcolor": "white"
          },
          "hoverlabel": {
           "align": "left"
          },
          "hovermode": "closest",
          "mapbox": {
           "style": "light"
          },
          "paper_bgcolor": "white",
          "plot_bgcolor": "#E5ECF6",
          "polar": {
           "angularaxis": {
            "gridcolor": "white",
            "linecolor": "white",
            "ticks": ""
           },
           "bgcolor": "#E5ECF6",
           "radialaxis": {
            "gridcolor": "white",
            "linecolor": "white",
            "ticks": ""
           }
          },
          "scene": {
           "xaxis": {
            "backgroundcolor": "#E5ECF6",
            "gridcolor": "white",
            "gridwidth": 2,
            "linecolor": "white",
            "showbackground": true,
            "ticks": "",
            "zerolinecolor": "white"
           },
           "yaxis": {
            "backgroundcolor": "#E5ECF6",
            "gridcolor": "white",
            "gridwidth": 2,
            "linecolor": "white",
            "showbackground": true,
            "ticks": "",
            "zerolinecolor": "white"
           },
           "zaxis": {
            "backgroundcolor": "#E5ECF6",
            "gridcolor": "white",
            "gridwidth": 2,
            "linecolor": "white",
            "showbackground": true,
            "ticks": "",
            "zerolinecolor": "white"
           }
          },
          "shapedefaults": {
           "line": {
            "color": "#2a3f5f"
           }
          },
          "ternary": {
           "aaxis": {
            "gridcolor": "white",
            "linecolor": "white",
            "ticks": ""
           },
           "baxis": {
            "gridcolor": "white",
            "linecolor": "white",
            "ticks": ""
           },
           "bgcolor": "#E5ECF6",
           "caxis": {
            "gridcolor": "white",
            "linecolor": "white",
            "ticks": ""
           }
          },
          "title": {
           "x": 0.05
          },
          "xaxis": {
           "automargin": true,
           "gridcolor": "white",
           "linecolor": "white",
           "ticks": "",
           "title": {
            "standoff": 15
           },
           "zerolinecolor": "white",
           "zerolinewidth": 2
          },
          "yaxis": {
           "automargin": true,
           "gridcolor": "white",
           "linecolor": "white",
           "ticks": "",
           "title": {
            "standoff": 15
           },
           "zerolinecolor": "white",
           "zerolinewidth": 2
          }
         }
        },
        "title": {
         "text": "Candlestick Chart with Buy and Sell Signals"
        },
        "xaxis": {
         "anchor": "y",
         "domain": [
          0,
          1
         ],
         "rangeslider": {
          "visible": true
         },
         "title": {
          "text": "Datetime"
         }
        },
        "xaxis2": {
         "anchor": "y2",
         "domain": [
          0,
          1
         ],
         "rangeslider": {
          "visible": true
         },
         "title": {
          "text": "Datetime"
         }
        },
        "yaxis": {
         "anchor": "x",
         "domain": [
          0.5449999999999999,
          0.9999999999999999
         ],
         "title": {
          "text": "Price"
         }
        },
        "yaxis2": {
         "anchor": "x2",
         "domain": [
          0,
          0.195
         ],
         "title": {
          "text": "Equity Curve (%)"
         }
        }
       }
      }
     },
     "metadata": {},
     "output_type": "display_data"
    }
   ],
   "source": [
    "import plotly.graph_objects as go\n",
    "from plotly.subplots import make_subplots\n",
    "\n",
    "daily_vwap_df = pd.DataFrame(Bt1.vwap)\n",
    "weekly_vwap_df = pd.DataFrame(Bt2.vwap)\n",
    "\n",
    "# Create figure\n",
    "fig = make_subplots(rows=2, cols=1, vertical_spacing=0.35, row_heights=[0.7, 0.3])\n",
    "\n",
    "# Add candlestick chart\n",
    "fig.add_trace(go.Candlestick(\n",
    "    x=df.index,\n",
    "    open=df[\"Open\"],\n",
    "    high=df[\"High\"],\n",
    "    low=df[\"Low\"],\n",
    "    close=df[\"Close\"],\n",
    "    name=\"Candlestick\"\n",
    "), row=1, col=1)\n",
    "\n",
    "# # Add buy signals (green arrows)\n",
    "# fig.add_trace(go.Scatter(\n",
    "#     x=records_df[\"entry_timestamp\"],\n",
    "#     y=records_df[\"entry_price\"] * 0.9,\n",
    "#     mode=\"markers\",\n",
    "#     marker=dict(symbol=\"triangle-up\", color=\"green\", size=10),\n",
    "#     name=\"Buy Signal\"\n",
    "# ), row=1, col=1)\n",
    "\n",
    "# # Add sell signals (red arrows)\n",
    "# fig.add_trace(go.Scatter(\n",
    "#     x=records_df[\"exit_timestamp\"],\n",
    "#     y=records_df[\"exit_price\"] * 1.1,\n",
    "#     mode=\"markers\",\n",
    "#     marker=dict(symbol=\"triangle-down\", color=\"red\", size=10),\n",
    "#     name=\"Sell Signal\"\n",
    "# ), row=1, col=1)\n",
    "\n",
    "fig.add_trace(go.Scatter(\n",
    "    x=daily_vwap_df['conf_timestamp'],\n",
    "    y=daily_vwap_df['value'],\n",
    "    mode='lines',\n",
    "    name='VWAP',\n",
    "    line=dict(color='yellow')\n",
    "), row=1, col=1)\n",
    "\n",
    "fig.add_trace(go.Scatter(\n",
    "    x=weekly_vwap_df['conf_timestamp'],\n",
    "    y=weekly_vwap_df['value'],\n",
    "    mode='lines',\n",
    "    name='VWAP',\n",
    "    line=dict(color='blue')\n",
    "), row=1, col=1)\n",
    "\n",
    "# # Add cumulative returns line chart\n",
    "# fig.add_trace(go.Scatter(\n",
    "#     x=df.index,\n",
    "#     y=(df['Close']-df.iloc[0]['Close'])/df.iloc[0]['Close']*100,\n",
    "#     mode='lines',\n",
    "#     name='Equity Curve (%)',\n",
    "#     line=dict(color='blue')\n",
    "# ), row=2, col=1)\n",
    "\n",
    "# # Add cumulative returns line chart\n",
    "# fig.add_trace(go.Scatter(\n",
    "#     x=df.index,\n",
    "#     y=equity_curve,\n",
    "#     mode='lines',\n",
    "#     name='Equity Curve (%)',\n",
    "#     line=dict(color='orange')\n",
    "# ), row=2, col=1)\n",
    "\n",
    "# Update layout\n",
    "fig.update_layout(\n",
    "    title=\"Candlestick Chart with Buy and Sell Signals\",\n",
    "    xaxis_title=\"Datetime\",\n",
    "    yaxis_title=\"Price\",\n",
    "    xaxis_rangeslider_visible=True,\n",
    "    xaxis2_title=\"Datetime\",\n",
    "    yaxis2_title=\"Equity Curve (%)\",\n",
    "    xaxis2_rangeslider_visible=True,\n",
    "    height=800\n",
    ")\n",
    "\n",
    "# Show figure\n",
    "fig.show()"
   ]
  }
 ],
 "metadata": {
  "kernelspec": {
   "display_name": "3.10.4",
   "language": "python",
   "name": "python3"
  },
  "language_info": {
   "codemirror_mode": {
    "name": "ipython",
    "version": 3
   },
   "file_extension": ".py",
   "mimetype": "text/x-python",
   "name": "python",
   "nbconvert_exporter": "python",
   "pygments_lexer": "ipython3",
   "version": "3.10.4"
  }
 },
 "nbformat": 4,
 "nbformat_minor": 2
}
